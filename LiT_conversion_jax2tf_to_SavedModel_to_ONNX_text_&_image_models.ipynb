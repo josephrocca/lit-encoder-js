{
  "cells": [
    {
      "cell_type": "code",
      "source": [
        "!pip install \"jax[cpu]\"==0.3.7 # need to use older version of jax fix temporary jax2tf bug (should be fixed in 0.3.11 release): \"AttributeError: module 'tensorflow.compiler.tf2xla.python.xla' has no attribute 'optimization_barrier'\""
      ],
      "metadata": {
        "id": "DXNqyvxdhtGf",
        "colab": {
          "base_uri": "https://localhost:8080/"
        },
        "outputId": "946d4c0d-3198-4761-a19f-2d943f5ef06c"
      },
      "execution_count": 1,
      "outputs": [
        {
          "output_type": "stream",
          "name": "stdout",
          "text": [
            "Collecting jax[cpu]==0.3.7\n",
            "  Downloading jax-0.3.7.tar.gz (944 kB)\n",
            "\u001b[K     |████████████████████████████████| 944 kB 5.0 MB/s \n",
            "\u001b[?25hRequirement already satisfied: absl-py in /usr/local/lib/python3.7/dist-packages (from jax[cpu]==0.3.7) (1.0.0)\n",
            "Requirement already satisfied: numpy>=1.19 in /usr/local/lib/python3.7/dist-packages (from jax[cpu]==0.3.7) (1.21.6)\n",
            "Requirement already satisfied: opt_einsum in /usr/local/lib/python3.7/dist-packages (from jax[cpu]==0.3.7) (3.3.0)\n",
            "Requirement already satisfied: scipy>=1.2.1 in /usr/local/lib/python3.7/dist-packages (from jax[cpu]==0.3.7) (1.4.1)\n",
            "Requirement already satisfied: typing_extensions in /usr/local/lib/python3.7/dist-packages (from jax[cpu]==0.3.7) (4.2.0)\n",
            "Requirement already satisfied: jaxlib==0.3.7 in /usr/local/lib/python3.7/dist-packages (from jax[cpu]==0.3.7) (0.3.7+cuda11.cudnn805)\n",
            "Requirement already satisfied: flatbuffers<3.0,>=1.12 in /usr/local/lib/python3.7/dist-packages (from jaxlib==0.3.7->jax[cpu]==0.3.7) (2.0)\n",
            "Requirement already satisfied: six in /usr/local/lib/python3.7/dist-packages (from absl-py->jax[cpu]==0.3.7) (1.15.0)\n",
            "Building wheels for collected packages: jax\n",
            "  Building wheel for jax (setup.py) ... \u001b[?25l\u001b[?25hdone\n",
            "  Created wheel for jax: filename=jax-0.3.7-py3-none-any.whl size=1091304 sha256=6f90f53d792fe7464e843cb1a7fe3a45acad2f33e8ab760c05ff61e788ea53b6\n",
            "  Stored in directory: /root/.cache/pip/wheels/c7/72/d4/a495bfbf37a64af5d4bd58d10625663abcf3ca3554a7d30637\n",
            "Successfully built jax\n",
            "Installing collected packages: jax\n",
            "  Attempting uninstall: jax\n",
            "    Found existing installation: jax 0.3.8\n",
            "    Uninstalling jax-0.3.8:\n",
            "      Successfully uninstalled jax-0.3.8\n",
            "Successfully installed jax-0.3.7\n"
          ]
        }
      ]
    },
    {
      "cell_type": "code",
      "execution_count": 2,
      "metadata": {
        "id": "JHkfIOBXp-2J",
        "colab": {
          "base_uri": "https://localhost:8080/"
        },
        "outputId": "76aebabd-30d3-4778-834c-959c33825d98"
      },
      "outputs": [
        {
          "output_type": "stream",
          "name": "stdout",
          "text": [
            "\u001b[K     |████████████████████████████████| 77 kB 3.1 MB/s \n",
            "\u001b[K     |████████████████████████████████| 186 kB 11.4 MB/s \n",
            "\u001b[K     |████████████████████████████████| 77 kB 5.3 MB/s \n",
            "\u001b[K     |████████████████████████████████| 4.9 MB 37.3 MB/s \n",
            "\u001b[K     |████████████████████████████████| 288 kB 74.8 MB/s \n",
            "\u001b[K     |████████████████████████████████| 4.2 MB 36.6 MB/s \n",
            "\u001b[K     |████████████████████████████████| 140 kB 56.9 MB/s \n",
            "\u001b[K     |████████████████████████████████| 462 kB 44.4 MB/s \n",
            "\u001b[K     |████████████████████████████████| 72 kB 499 kB/s \n",
            "\u001b[?25h  Building wheel for vit-jax (setup.py) ... \u001b[?25l\u001b[?25hdone\n",
            "  Building wheel for flaxformer (setup.py) ... \u001b[?25l\u001b[?25hdone\n",
            "  Building wheel for ml-collections (setup.py) ... \u001b[?25l\u001b[?25hdone\n"
          ]
        }
      ],
      "source": [
        "!pip install -q git+https://github.com/google-research/vision_transformer"
      ]
    },
    {
      "cell_type": "code",
      "source": [
        "!pip install -U tf2onnx"
      ],
      "metadata": {
        "id": "6MG4BzVByQnS",
        "colab": {
          "base_uri": "https://localhost:8080/"
        },
        "outputId": "ef1e5e50-bcf7-4cc2-eb29-a0215fc7c8fc"
      },
      "execution_count": 3,
      "outputs": [
        {
          "output_type": "stream",
          "name": "stdout",
          "text": [
            "Collecting tf2onnx\n",
            "  Downloading tf2onnx-1.10.1-py3-none-any.whl (440 kB)\n",
            "\u001b[K     |████████████████████████████████| 440 kB 5.0 MB/s \n",
            "\u001b[?25hRequirement already satisfied: numpy>=1.14.1 in /usr/local/lib/python3.7/dist-packages (from tf2onnx) (1.21.6)\n",
            "Requirement already satisfied: six in /usr/local/lib/python3.7/dist-packages (from tf2onnx) (1.15.0)\n",
            "Requirement already satisfied: requests in /usr/local/lib/python3.7/dist-packages (from tf2onnx) (2.23.0)\n",
            "Collecting onnx>=1.4.1\n",
            "  Downloading onnx-1.11.0-cp37-cp37m-manylinux_2_12_x86_64.manylinux2010_x86_64.whl (12.8 MB)\n",
            "\u001b[K     |████████████████████████████████| 12.8 MB 58.4 MB/s \n",
            "\u001b[?25hCollecting flatbuffers~=1.12\n",
            "  Downloading flatbuffers-1.12-py2.py3-none-any.whl (15 kB)\n",
            "Requirement already satisfied: protobuf>=3.12.2 in /usr/local/lib/python3.7/dist-packages (from onnx>=1.4.1->tf2onnx) (3.17.3)\n",
            "Requirement already satisfied: typing-extensions>=3.6.2.1 in /usr/local/lib/python3.7/dist-packages (from onnx>=1.4.1->tf2onnx) (4.2.0)\n",
            "Requirement already satisfied: idna<3,>=2.5 in /usr/local/lib/python3.7/dist-packages (from requests->tf2onnx) (2.10)\n",
            "Requirement already satisfied: chardet<4,>=3.0.2 in /usr/local/lib/python3.7/dist-packages (from requests->tf2onnx) (3.0.4)\n",
            "Requirement already satisfied: certifi>=2017.4.17 in /usr/local/lib/python3.7/dist-packages (from requests->tf2onnx) (2021.10.8)\n",
            "Requirement already satisfied: urllib3!=1.25.0,!=1.25.1,<1.26,>=1.21.1 in /usr/local/lib/python3.7/dist-packages (from requests->tf2onnx) (1.24.3)\n",
            "Installing collected packages: onnx, flatbuffers, tf2onnx\n",
            "  Attempting uninstall: flatbuffers\n",
            "    Found existing installation: flatbuffers 2.0\n",
            "    Uninstalling flatbuffers-2.0:\n",
            "      Successfully uninstalled flatbuffers-2.0\n",
            "Successfully installed flatbuffers-1.12 onnx-1.11.0 tf2onnx-1.10.1\n"
          ]
        }
      ]
    },
    {
      "cell_type": "code",
      "execution_count": 4,
      "metadata": {
        "id": "4DS88TsHsli7"
      },
      "outputs": [],
      "source": [
        "import jax\n",
        "import jax.numpy as jnp\n",
        "from jax.experimental import jax2tf\n",
        "import tensorflow as tf\n",
        "from vit_jax import models\n",
        "import tf2onnx"
      ]
    },
    {
      "cell_type": "code",
      "execution_count": 5,
      "metadata": {
        "id": "9mj2ysEQkXXF",
        "colab": {
          "base_uri": "https://localhost:8080/"
        },
        "outputId": "c4f7f47f-6ce4-4f81-c31e-3ba12fda71ad"
      },
      "outputs": [
        {
          "output_type": "execute_result",
          "data": {
            "text/plain": [
              "['LiT-B16B', 'LiT-L16L', 'LiT-L16S', 'LiT-L16Ti']"
            ]
          },
          "metadata": {},
          "execution_count": 5
        }
      ],
      "source": [
        "# Currently available LiT models\n",
        "[name for name in models.model_configs.MODEL_CONFIGS if name.startswith('LiT')]"
      ]
    },
    {
      "cell_type": "code",
      "execution_count": 6,
      "metadata": {
        "id": "lv0dIxWckOJ0",
        "colab": {
          "base_uri": "https://localhost:8080/"
        },
        "outputId": "1afa3f9e-38cc-4e60-d274-2f38b93ecbf5"
      },
      "outputs": [
        {
          "output_type": "stream",
          "name": "stdout",
          "text": [
            "Loading params from cloud: gs://vit_models/lit/LiT-B16B.npz\n"
          ]
        },
        {
          "output_type": "stream",
          "name": "stderr",
          "text": [
            "100%|██████████| 75/75 [01:05<00:00,  1.15it/s]\n"
          ]
        },
        {
          "output_type": "stream",
          "name": "stdout",
          "text": [
            "\n",
            "⚠️ Reusing local copy: LiT-B16B.npz\n"
          ]
        }
      ],
      "source": [
        "model_name = 'LiT-B16B'\n",
        "lit_model = models.get_model(model_name)\n",
        "lit_variables = lit_model.load_variables()\n",
        "tokenizer = lit_model.get_tokenizer() # <-- this contains tensorflow code, so need to port manually :(\n",
        "image_preprocessing = lit_model.get_image_preprocessing() # <-- this contains tensorflow code, so need to port manually :("
      ]
    },
    {
      "cell_type": "code",
      "source": [
        "##################################\n",
        "#         IMAGE MODEL            #\n",
        "##################################"
      ],
      "metadata": {
        "id": "3B_MDHfukvQg"
      },
      "execution_count": null,
      "outputs": []
    },
    {
      "cell_type": "code",
      "execution_count": 7,
      "metadata": {
        "id": "iO85T44aEmMs"
      },
      "outputs": [],
      "source": [
        "def embed_images(variables, images):\n",
        "  zimg, _, _ = lit_model.apply(variables, images=images)\n",
        "  return zimg"
      ]
    },
    {
      "cell_type": "code",
      "source": [
        "# This is so we don't save the model parameters as graph constants. Explanation here: https://github.com/google/jax/tree/main/jax/experimental/jax2tf#saved-model-with-parameters\n",
        "lit_variables_tf = tf.nest.map_structure(tf.Variable, lit_variables)\n",
        "embed_images_tf = lambda images: jax2tf.convert(embed_images, enable_xla=False, polymorphic_shapes=[None, \"(b, ...)\"])(lit_variables_tf, images)"
      ],
      "metadata": {
        "id": "IbXZbGV-pNr7"
      },
      "execution_count": 8,
      "outputs": []
    },
    {
      "cell_type": "code",
      "source": [
        "!wget https://i.imgur.com/3EFG6xW.jpg"
      ],
      "metadata": {
        "id": "qB0zou4Cys3U",
        "colab": {
          "base_uri": "https://localhost:8080/"
        },
        "outputId": "d0248ce6-e9d0-47f2-c5c7-94dba68b92fe"
      },
      "execution_count": 17,
      "outputs": [
        {
          "output_type": "stream",
          "name": "stdout",
          "text": [
            "--2022-05-16 12:07:42--  https://i.imgur.com/3EFG6xW.jpg\n",
            "Resolving i.imgur.com (i.imgur.com)... 146.75.32.193\n",
            "Connecting to i.imgur.com (i.imgur.com)|146.75.32.193|:443... connected.\n",
            "HTTP request sent, awaiting response... 200 OK\n",
            "Length: 7465 (7.3K) [image/jpeg]\n",
            "Saving to: ‘3EFG6xW.jpg’\n",
            "\n",
            "\r3EFG6xW.jpg           0%[                    ]       0  --.-KB/s               \r3EFG6xW.jpg         100%[===================>]   7.29K  --.-KB/s    in 0s      \n",
            "\n",
            "2022-05-16 12:07:42 (35.7 MB/s) - ‘3EFG6xW.jpg’ saved [7465/7465]\n",
            "\n"
          ]
        }
      ]
    },
    {
      "cell_type": "code",
      "source": [
        "from PIL import Image\n",
        "img = Image.open(\"/content/3EFG6xW.jpg\") \n",
        "display(img)"
      ],
      "metadata": {
        "colab": {
          "base_uri": "https://localhost:8080/",
          "height": 241
        },
        "id": "x-2XYsLBzD3X",
        "outputId": "d7197b86-af44-4b61-a5f0-d2f4ec071599"
      },
      "execution_count": 18,
      "outputs": [
        {
          "output_type": "display_data",
          "data": {
            "text/plain": [
              "<PIL.JpegImagePlugin.JpegImageFile image mode=RGB size=224x224 at 0x7FC0BA5D7E90>"
            ],
            "image/png": "[encoded data removed]"
          },
          "metadata": {}
        }
      ]
    },
    {
      "cell_type": "code",
      "source": [
        "np_img = jnp.asarray(img)"
      ],
      "metadata": {
        "id": "qa_mTpIy0NnH"
      },
      "execution_count": 19,
      "outputs": []
    },
    {
      "cell_type": "code",
      "source": [
        "np_img"
      ],
      "metadata": {
        "colab": {
          "base_uri": "https://localhost:8080/"
        },
        "id": "1P_3x-wQHWmo",
        "outputId": "38dafb56-0193-440f-ab00-d051d0b12386"
      },
      "execution_count": 27,
      "outputs": [
        {
          "output_type": "execute_result",
          "data": {
            "text/plain": [
              "DeviceArray([[[104, 110, 100],\n",
              "              [104, 110, 100],\n",
              "              [104, 110, 100],\n",
              "              ...,\n",
              "              [102, 108,  98],\n",
              "              [102, 108,  98],\n",
              "              [102, 108,  98]],\n",
              "\n",
              "             [[104, 110, 100],\n",
              "              [104, 110, 100],\n",
              "              [104, 110, 100],\n",
              "              ...,\n",
              "              [102, 108,  98],\n",
              "              [102, 108,  98],\n",
              "              [102, 108,  98]],\n",
              "\n",
              "             [[103, 109,  99],\n",
              "              [103, 109,  99],\n",
              "              [104, 110, 100],\n",
              "              ...,\n",
              "              [102, 108,  98],\n",
              "              [102, 108,  98],\n",
              "              [102, 108,  98]],\n",
              "\n",
              "             ...,\n",
              "\n",
              "             [[218, 172, 149],\n",
              "              [217, 171, 148],\n",
              "              [216, 170, 147],\n",
              "              ...,\n",
              "              [120,  95,  75],\n",
              "              [125, 100,  80],\n",
              "              [126, 101,  81]],\n",
              "\n",
              "             [[219, 173, 150],\n",
              "              [217, 171, 148],\n",
              "              [215, 169, 146],\n",
              "              ...,\n",
              "              [ 97,  72,  52],\n",
              "              [100,  75,  55],\n",
              "              [120,  95,  75]],\n",
              "\n",
              "             [[219, 173, 150],\n",
              "              [217, 171, 148],\n",
              "              [215, 169, 146],\n",
              "              ...,\n",
              "              [102,  77,  57],\n",
              "              [ 82,  57,  37],\n",
              "              [ 94,  69,  49]]], dtype=uint8)"
            ]
          },
          "metadata": {},
          "execution_count": 27
        }
      ]
    },
    {
      "cell_type": "code",
      "source": [
        "print(np_img.shape)"
      ],
      "metadata": {
        "colab": {
          "base_uri": "https://localhost:8080/"
        },
        "id": "e-Ommr_T0dKg",
        "outputId": "e7a10d90-7ffc-470a-ec6a-14d70613d17e"
      },
      "execution_count": 20,
      "outputs": [
        {
          "output_type": "stream",
          "name": "stdout",
          "text": [
            "(224, 224, 3)\n"
          ]
        }
      ]
    },
    {
      "cell_type": "code",
      "source": [
        "pp_img = image_preprocessing(tf.convert_to_tensor(jnp.array([np_img])))"
      ],
      "metadata": {
        "id": "8DdWXQQXz4eu"
      },
      "execution_count": 21,
      "outputs": []
    },
    {
      "cell_type": "code",
      "source": [
        "pp_img"
      ],
      "metadata": {
        "colab": {
          "base_uri": "https://localhost:8080/"
        },
        "id": "4thFEjLBY7nV",
        "outputId": "c52207cd-a187-46a5-de3b-981bb0f83210"
      },
      "execution_count": 37,
      "outputs": [
        {
          "output_type": "execute_result",
          "data": {
            "text/plain": [
              "array([[[[-0.18431371, -0.1372549 , -0.21568626],\n",
              "         [-0.18431371, -0.1372549 , -0.21568626],\n",
              "         [-0.18431371, -0.1372549 , -0.21568626],\n",
              "         ...,\n",
              "         [-0.19999999, -0.15294117, -0.23137254],\n",
              "         [-0.19999999, -0.15294117, -0.23137254],\n",
              "         [-0.19999999, -0.15294117, -0.23137254]],\n",
              "\n",
              "        [[-0.18431371, -0.1372549 , -0.21568626],\n",
              "         [-0.18431371, -0.1372549 , -0.21568626],\n",
              "         [-0.18431371, -0.1372549 , -0.21568626],\n",
              "         ...,\n",
              "         [-0.19999999, -0.15294117, -0.23137254],\n",
              "         [-0.19999999, -0.15294117, -0.23137254],\n",
              "         [-0.19999999, -0.15294117, -0.23137254]],\n",
              "\n",
              "        [[-0.19215685, -0.14509803, -0.2235294 ],\n",
              "         [-0.19215685, -0.14509803, -0.2235294 ],\n",
              "         [-0.18431371, -0.1372549 , -0.21568626],\n",
              "         ...,\n",
              "         [-0.19999999, -0.15294117, -0.23137254],\n",
              "         [-0.19999999, -0.15294117, -0.23137254],\n",
              "         [-0.19999999, -0.15294117, -0.23137254]],\n",
              "\n",
              "        ...,\n",
              "\n",
              "        [[ 0.70980394,  0.34901965,  0.1686275 ],\n",
              "         [ 0.7019608 ,  0.3411765 ,  0.16078436],\n",
              "         [ 0.69411767,  0.33333337,  0.15294123],\n",
              "         ...,\n",
              "         [-0.05882353, -0.25490195, -0.41176468],\n",
              "         [-0.01960784, -0.21568626, -0.372549  ],\n",
              "         [-0.01176471, -0.20784312, -0.36470586]],\n",
              "\n",
              "        [[ 0.7176471 ,  0.35686278,  0.17647064],\n",
              "         [ 0.7019608 ,  0.3411765 ,  0.16078436],\n",
              "         [ 0.6862745 ,  0.32549024,  0.14509809],\n",
              "         ...,\n",
              "         [-0.23921567, -0.4352941 , -0.5921569 ],\n",
              "         [-0.21568626, -0.41176468, -0.5686275 ],\n",
              "         [-0.05882353, -0.25490195, -0.41176468]],\n",
              "\n",
              "        [[ 0.7176471 ,  0.35686278,  0.17647064],\n",
              "         [ 0.7019608 ,  0.3411765 ,  0.16078436],\n",
              "         [ 0.6862745 ,  0.32549024,  0.14509809],\n",
              "         ...,\n",
              "         [-0.19999999, -0.3960784 , -0.5529412 ],\n",
              "         [-0.35686272, -0.5529412 , -0.70980394],\n",
              "         [-0.26274508, -0.4588235 , -0.6156863 ]]]], dtype=float32)"
            ]
          },
          "metadata": {},
          "execution_count": 37
        }
      ]
    },
    {
      "cell_type": "code",
      "source": [
        "pp_img.shape"
      ],
      "metadata": {
        "colab": {
          "base_uri": "https://localhost:8080/"
        },
        "id": "i229OgqQ1sbd",
        "outputId": "ac3e9470-7c83-4268-836d-1d959f9f80ff"
      },
      "execution_count": 14,
      "outputs": [
        {
          "output_type": "execute_result",
          "data": {
            "text/plain": [
              "(1, 224, 224, 3)"
            ]
          },
          "metadata": {},
          "execution_count": 14
        }
      ]
    },
    {
      "cell_type": "code",
      "source": [
        "embed_images_tf(pp_img)"
      ],
      "metadata": {
        "id": "qp8UhM-pmPJh",
        "colab": {
          "base_uri": "https://localhost:8080/"
        },
        "outputId": "0c98b660-e9e0-4f59-de7b-0e8584cd3487"
      },
      "execution_count": 25,
      "outputs": [
        {
          "output_type": "execute_result",
          "data": {
            "text/plain": [
              "<tf.Tensor: shape=(1, 768), dtype=float32, numpy=\n",
              "array([[-5.55288605e-02,  5.64340614e-02, -2.53345165e-02,\n",
              "        -7.04571372e-03, -4.43741232e-02, -9.98641457e-03,\n",
              "         1.47062605e-02, -1.28184434e-03, -4.88287956e-03,\n",
              "         3.44051234e-02, -3.47652510e-02, -2.54354160e-02,\n",
              "        -1.67460516e-02, -4.55446541e-03, -2.95176860e-02,\n",
              "         1.50395669e-02,  1.91923082e-02, -2.26781471e-03,\n",
              "         5.53558804e-02, -2.05553714e-02, -1.90312341e-02,\n",
              "         3.07557285e-02, -1.34337973e-02, -2.51099486e-02,\n",
              "         4.73540509e-03,  7.24522024e-02, -2.76858658e-02,\n",
              "         1.33900195e-02, -5.63910324e-03,  7.59580508e-02,\n",
              "        -2.10811291e-02, -4.26671468e-02,  4.40267362e-02,\n",
              "        -8.98994133e-03, -2.72203200e-02,  9.45691671e-03,\n",
              "        -4.53936607e-02, -5.14366031e-02, -1.60149615e-02,\n",
              "        -3.43620256e-02,  1.67564414e-02, -6.35175966e-03,\n",
              "         2.28999201e-02, -1.53777329e-02, -6.26899628e-03,\n",
              "        -2.14609914e-02,  2.90533844e-02, -1.50994482e-02,\n",
              "        -2.10201330e-02, -1.38329370e-02, -4.49863449e-02,\n",
              "        -4.41115126e-02, -2.19534207e-02, -3.32826795e-03,\n",
              "         9.05098692e-02,  6.66638389e-02,  5.03067635e-02,\n",
              "        -1.52756488e-02,  8.25127438e-02,  4.60092500e-02,\n",
              "        -3.88483293e-02,  2.42163371e-02,  7.83452764e-03,\n",
              "         1.45086590e-02, -8.31264909e-03, -9.67319589e-03,\n",
              "         2.75635328e-02,  4.29737456e-02,  4.05971222e-02,\n",
              "        -1.91829894e-02,  4.11723293e-02,  4.37577814e-02,\n",
              "         3.78900208e-02,  3.83098759e-02, -4.61554062e-03,\n",
              "        -4.68678400e-02,  3.37354243e-02, -8.43731780e-03,\n",
              "         3.13742533e-02, -7.89565146e-02, -3.10057085e-02,\n",
              "         2.45358255e-02,  1.89499855e-02, -7.09262851e-04,\n",
              "        -2.53144978e-03,  4.16370761e-03,  2.07571313e-02,\n",
              "        -3.48992683e-02,  2.09441911e-02, -1.71091855e-02,\n",
              "         3.65436785e-02, -3.45533863e-02,  2.58497763e-02,\n",
              "         3.44194733e-02, -9.19138722e-04,  1.17515204e-02,\n",
              "         1.68126654e-02, -5.86700775e-02, -3.39939632e-03,\n",
              "        -3.10825147e-02, -2.30307784e-02, -3.11668571e-02,\n",
              "        -5.54464711e-03,  1.37866680e-02,  2.61747614e-02,\n",
              "         4.16784957e-02,  4.34378535e-03, -3.82242799e-02,\n",
              "         1.98121578e-03, -3.98717746e-02, -5.11223041e-02,\n",
              "         4.01592329e-02, -1.23500554e-02, -3.64161655e-02,\n",
              "        -2.87640058e-02, -2.88403723e-02,  1.57118309e-02,\n",
              "        -3.85608301e-02, -6.18323199e-02, -6.34001009e-03,\n",
              "        -4.01449716e-03,  1.18544186e-02,  6.55796751e-02,\n",
              "        -1.48253108e-03, -7.78398067e-02,  3.46688628e-02,\n",
              "         2.10667867e-02, -3.33210342e-02, -3.08420677e-02,\n",
              "         6.74544275e-02,  3.83570008e-02, -4.88578342e-02,\n",
              "         8.71998630e-03, -2.31635049e-02,  5.25287772e-03,\n",
              "        -4.09497023e-02,  4.00403421e-03, -7.64907803e-04,\n",
              "         3.34092602e-02, -1.44934910e-03,  3.24835069e-02,\n",
              "        -1.50138773e-02, -4.36986126e-02, -4.87227254e-02,\n",
              "         3.47975791e-02,  4.59121447e-03,  1.81808528e-02,\n",
              "         3.19259763e-02, -4.66678701e-02,  2.84910537e-02,\n",
              "         2.74117235e-02, -8.53077844e-02,  6.95680967e-03,\n",
              "         5.90133946e-03,  6.67735115e-02,  5.05174929e-03,\n",
              "         4.99259159e-02, -3.42527628e-02,  3.89683209e-02,\n",
              "        -5.66338412e-02,  1.01811029e-02,  6.46993592e-02,\n",
              "        -6.13492876e-02,  3.88713591e-02, -1.25983823e-03,\n",
              "         2.36083381e-02, -3.89135256e-02,  4.64939699e-02,\n",
              "        -2.11299490e-02,  8.57634172e-02,  2.70849168e-02,\n",
              "        -7.15621784e-02, -9.73020215e-03,  6.80590197e-02,\n",
              "         4.73974608e-02,  3.44545953e-02,  2.65838262e-02,\n",
              "        -2.04003435e-02, -1.57233160e-02,  4.12059063e-03,\n",
              "         9.63761378e-03,  5.35897799e-02,  6.41301796e-02,\n",
              "        -2.71239821e-02, -3.29721980e-02,  9.67182964e-03,\n",
              "         3.94103192e-02,  4.11344729e-02,  3.39421853e-02,\n",
              "        -9.56541020e-03,  3.01231071e-02, -1.59552488e-02,\n",
              "        -3.33356597e-02, -2.36353427e-02,  7.57023543e-02,\n",
              "        -1.33333057e-02,  6.09955676e-02,  2.73746420e-02,\n",
              "         1.64279528e-03,  3.46935168e-02, -1.46181146e-02,\n",
              "        -1.49208633e-02,  1.26836235e-02, -9.91479866e-03,\n",
              "        -3.51516567e-02, -7.98327290e-03,  4.35497239e-02,\n",
              "         4.10020053e-02,  1.62350256e-02, -3.61766666e-02,\n",
              "         2.52225175e-02, -4.29343581e-02, -1.14111351e-02,\n",
              "         2.43643336e-02,  3.08839558e-03,  1.79989391e-03,\n",
              "         4.47691865e-02,  1.37758637e-02,  2.54659541e-02,\n",
              "        -6.85707806e-03,  2.00292673e-02, -2.84691826e-02,\n",
              "         2.29235250e-03, -2.05723662e-02,  1.09174941e-02,\n",
              "        -6.43825084e-02, -3.79503109e-02, -9.41415259e-04,\n",
              "        -3.61803547e-02, -7.46927224e-03, -1.30075298e-03,\n",
              "         3.26463161e-03, -7.26976898e-03, -8.97389429e-04,\n",
              "        -3.41747403e-02,  6.47894368e-02, -6.21959521e-03,\n",
              "         9.80529655e-03, -9.07410681e-03,  2.03307196e-02,\n",
              "         6.64004171e-03,  8.13197996e-03,  3.40018123e-02,\n",
              "        -2.08798591e-02,  3.13870311e-02,  2.03678105e-02,\n",
              "        -6.00338690e-02,  3.58492788e-03, -2.55744942e-02,\n",
              "        -1.17170140e-02, -5.84120229e-02, -2.04234757e-02,\n",
              "         9.28296074e-02, -1.04199117e-02,  6.05984703e-02,\n",
              "        -1.99247655e-02, -2.92796385e-03, -3.74304354e-02,\n",
              "         4.92083235e-03,  4.02596556e-02, -3.31737772e-02,\n",
              "         3.69565077e-02,  2.19649505e-02,  1.84168816e-02,\n",
              "         2.97339112e-02, -2.14743484e-02,  6.51975051e-02,\n",
              "        -6.74007088e-03,  3.69749591e-02,  9.03268997e-03,\n",
              "         1.43465884e-02,  4.98560444e-02, -5.17466515e-02,\n",
              "         9.53856111e-02, -1.54915405e-02,  2.93457843e-02,\n",
              "        -3.62743884e-02,  2.31916308e-02,  7.09446473e-03,\n",
              "         6.10102639e-02, -2.09006649e-02, -6.01934316e-03,\n",
              "         1.37332417e-02,  2.68461909e-02,  4.84039895e-02,\n",
              "         7.69268908e-03,  5.16691478e-03, -8.34577233e-02,\n",
              "        -3.94475162e-02,  2.17310525e-02,  3.12906168e-02,\n",
              "         4.98158038e-02, -2.73350198e-02,  2.74802912e-02,\n",
              "         4.49799746e-02, -5.06620631e-02, -6.91863149e-03,\n",
              "         2.12936439e-02, -5.95555194e-02, -2.17335839e-02,\n",
              "        -1.53381638e-02, -1.34454472e-02, -2.52176002e-02,\n",
              "         2.13016476e-03,  1.12128081e-02, -1.13126393e-02,\n",
              "        -2.63409149e-02,  4.43314351e-02,  3.74056958e-02,\n",
              "        -3.30872387e-02,  3.28797698e-02,  5.72820101e-03,\n",
              "         7.71122286e-03, -4.28940617e-02,  1.92545820e-02,\n",
              "        -1.01652266e-02,  4.47919592e-02,  3.41679230e-02,\n",
              "        -8.89962539e-03, -6.24953099e-02,  5.22015654e-02,\n",
              "         1.47697441e-02, -1.00187294e-01, -9.87493433e-03,\n",
              "        -3.28931548e-02, -4.42514895e-03,  4.52178977e-02,\n",
              "        -3.66132446e-02,  4.69694212e-02, -4.63780016e-04,\n",
              "        -3.48447114e-02,  5.73270349e-03,  2.34761387e-02,\n",
              "         5.53485565e-02,  3.77383716e-02,  6.87709376e-02,\n",
              "        -4.51187566e-02,  1.45925879e-02, -6.32281527e-02,\n",
              "        -4.59706821e-02, -9.94751789e-03, -1.98460140e-04,\n",
              "         2.07195878e-02,  1.78694669e-02, -2.48973556e-02,\n",
              "         2.72764005e-02, -2.28066240e-02,  4.63856161e-02,\n",
              "        -4.06439044e-02, -8.19210410e-02, -6.21822216e-02,\n",
              "        -2.06129812e-02, -9.51991230e-03, -3.89186963e-02,\n",
              "         5.40457219e-02,  6.00668266e-02,  1.19655775e-02,\n",
              "        -4.83530313e-02, -3.12056486e-02, -5.61766559e-03,\n",
              "         7.07702637e-02, -8.04154202e-02, -1.08817378e-02,\n",
              "        -2.62581594e-02, -5.17709590e-02, -7.21407011e-02,\n",
              "         4.22283746e-02, -8.37194268e-03,  2.09423304e-02,\n",
              "        -8.36069360e-02,  9.36375652e-03,  9.32646581e-05,\n",
              "        -3.53276245e-02, -3.27506848e-02, -4.30693924e-02,\n",
              "         2.52761338e-02,  9.89051256e-03,  7.54159167e-02,\n",
              "        -1.46941245e-02, -2.14762241e-03,  3.89660429e-03,\n",
              "         1.45905092e-03, -2.19418164e-02,  3.67620215e-02,\n",
              "        -4.14361618e-02, -6.05166703e-03,  1.76760480e-02,\n",
              "         4.11533937e-02,  2.40210071e-02, -2.41764057e-02,\n",
              "         2.88283378e-02, -5.53069860e-02, -5.95534407e-02,\n",
              "        -3.34911444e-03,  4.69012298e-02,  3.46254073e-02,\n",
              "        -5.81116974e-03,  4.23124805e-02, -6.06447458e-02,\n",
              "         2.69575007e-02,  1.16482517e-02,  2.69681923e-02,\n",
              "        -5.94366118e-02,  3.00677139e-02,  1.88053977e-02,\n",
              "         3.48632014e-03,  6.97961589e-03,  2.36018561e-02,\n",
              "         8.19104761e-02, -3.89042161e-02, -9.51547700e-04,\n",
              "        -2.85978522e-02, -7.68615007e-02, -2.10982841e-02,\n",
              "         3.08274734e-03,  2.94836331e-02,  2.94955578e-02,\n",
              "        -1.89413521e-02, -4.19611409e-02, -2.64922120e-02,\n",
              "         7.08568469e-02, -1.57028753e-02,  1.54392831e-02,\n",
              "        -3.04722264e-02, -2.99727935e-02,  1.23983137e-02,\n",
              "         8.71629193e-02,  3.37476470e-02, -5.16272038e-02,\n",
              "         6.78137410e-03,  6.16276115e-02, -1.93970688e-02,\n",
              "         5.92741035e-02,  7.24173188e-02,  3.72917354e-02,\n",
              "        -2.29027178e-02,  2.64072102e-02,  3.71082798e-02,\n",
              "        -1.26907323e-02,  8.13377835e-03,  6.78300634e-02,\n",
              "        -2.68073343e-02, -2.19536722e-02, -1.96026620e-02,\n",
              "        -3.99302877e-02, -4.07159738e-02,  3.12540010e-02,\n",
              "        -1.63130686e-02, -2.60993429e-02, -1.47612635e-02,\n",
              "        -3.96942832e-02, -9.68617294e-03,  4.06307243e-02,\n",
              "         3.71432491e-02,  1.27425967e-02,  8.67543183e-03,\n",
              "         2.25664098e-02, -1.56813040e-02,  2.47509102e-03,\n",
              "         1.85762290e-02,  6.59866119e-03,  1.02484124e-02,\n",
              "         8.68644565e-03, -3.71638536e-02, -4.53539453e-02,\n",
              "         4.61705141e-02,  1.12808002e-02,  7.40791112e-02,\n",
              "         1.38988963e-03, -5.41768456e-03, -1.60796363e-02,\n",
              "        -4.51780818e-02, -8.42829645e-02, -9.67159495e-03,\n",
              "        -3.19003649e-02,  4.93971910e-03, -6.16185479e-02,\n",
              "        -5.37701547e-02,  3.32410261e-02, -4.94721867e-02,\n",
              "         4.24431041e-02,  4.80356142e-02,  1.03348428e-02,\n",
              "         1.76328532e-02,  1.30198468e-02, -1.30744176e-02,\n",
              "         1.60950348e-02,  1.54092349e-02,  4.04075999e-03,\n",
              "        -2.76297200e-02, -2.06076559e-02, -1.04464004e-02,\n",
              "        -1.09284837e-02,  6.85348883e-02, -6.49712863e-04,\n",
              "         1.51596474e-03,  4.73303869e-02, -2.51297746e-02,\n",
              "         7.47945718e-03, -3.20643969e-02,  2.26924587e-02,\n",
              "        -6.67890310e-02,  5.54981455e-02, -1.74220297e-02,\n",
              "         2.92003248e-02, -9.54182073e-02, -3.09219845e-02,\n",
              "         2.43839324e-02, -4.16209139e-02,  4.00904305e-02,\n",
              "        -3.68539505e-02, -1.27100078e-02, -2.12715045e-02,\n",
              "        -2.71928404e-02, -2.58380994e-02, -6.09865971e-02,\n",
              "        -6.56279102e-02,  3.36726718e-02,  3.93014252e-02,\n",
              "         1.36637585e-02,  3.24850604e-02,  6.37986362e-02,\n",
              "        -3.37560661e-02,  3.19418660e-03,  3.22878845e-02,\n",
              "         3.55098508e-02, -7.91002810e-03, -1.41184428e-03,\n",
              "        -2.28453856e-02,  2.63372269e-02,  2.27970742e-02,\n",
              "        -1.86122786e-02, -2.18473058e-02, -4.63546216e-02,\n",
              "         8.46941117e-03,  2.57165283e-02,  2.26551034e-02,\n",
              "         1.89750839e-03, -2.50047626e-04, -2.21450031e-02,\n",
              "        -7.51781091e-02,  6.25660643e-02, -2.95744538e-02,\n",
              "        -5.01605822e-03,  1.07241850e-02,  4.90169935e-02,\n",
              "         3.71685810e-03,  3.41197080e-03,  7.81860668e-03,\n",
              "        -1.03105148e-02,  1.15358802e-02, -1.02553917e-02,\n",
              "        -3.80068645e-02,  3.83781344e-02,  4.14294787e-02,\n",
              "         4.17613424e-02, -2.78428961e-02, -3.13760601e-02,\n",
              "        -2.00225040e-02,  1.09527884e-02,  4.48935898e-04,\n",
              "         2.54259855e-02,  2.26195101e-02,  5.98334558e-02,\n",
              "        -5.86843714e-02,  3.78140360e-02, -2.21908260e-02,\n",
              "        -2.45137210e-03,  3.01031992e-02, -1.38568962e-02,\n",
              "         3.95525666e-03, -4.64336984e-02,  3.24312155e-03,\n",
              "         3.62765603e-02,  1.07628256e-02, -3.83002460e-02,\n",
              "        -7.47316256e-02, -5.80311604e-02,  1.91689413e-02,\n",
              "         1.22936266e-02,  3.40336841e-03, -3.97081673e-02,\n",
              "         3.65593731e-02, -2.15923712e-02,  1.18821086e-02,\n",
              "        -5.71375675e-02,  3.47678475e-02, -4.61607939e-03,\n",
              "         8.86810124e-02, -2.71564033e-02, -4.14683297e-03,\n",
              "         6.32964075e-02, -2.29251403e-02,  3.72919552e-02,\n",
              "        -2.26218533e-02,  4.14885953e-02, -9.15344656e-02,\n",
              "         1.46714132e-02,  3.94211859e-02,  8.25076364e-03,\n",
              "        -6.76905550e-03,  5.03413603e-02, -4.77418453e-02,\n",
              "         1.07817620e-03,  3.62619311e-02, -6.10567257e-02,\n",
              "         1.62884481e-02,  6.47325581e-03,  2.76953746e-02,\n",
              "        -8.39184746e-02, -3.94960940e-02,  4.12094854e-02,\n",
              "        -5.52113354e-02,  8.49257782e-02,  9.76075139e-03,\n",
              "        -3.63970809e-02, -7.36794397e-02,  1.31604448e-02,\n",
              "         4.21905294e-02, -6.49708789e-03, -1.58983264e-02,\n",
              "        -1.91671494e-02, -1.42192189e-02, -6.29734918e-02,\n",
              "         2.04359684e-02,  4.01044488e-02,  1.04645295e-02,\n",
              "         2.14620586e-03,  7.68511510e-03,  5.00545721e-04,\n",
              "        -3.38501595e-02, -5.29781282e-02, -2.26770975e-02,\n",
              "         6.38152957e-02, -2.33975295e-02, -2.32661199e-02,\n",
              "        -1.70470867e-02, -4.02799509e-02,  4.24818061e-02,\n",
              "         1.51810898e-02,  5.46051413e-02,  4.72050905e-02,\n",
              "        -1.63749345e-02,  3.03662326e-02,  1.39182415e-02,\n",
              "        -5.08213155e-02,  4.74495925e-02, -3.83132584e-02,\n",
              "        -4.02431525e-02, -2.13898122e-02, -1.89822614e-02,\n",
              "        -1.41115487e-02, -3.44667435e-02,  3.31531949e-02,\n",
              "        -1.35711310e-02,  4.50920425e-02, -2.59729419e-02,\n",
              "         4.10260893e-02,  5.14373481e-02,  3.29043418e-02,\n",
              "         2.75134183e-02,  2.95161139e-02, -7.27142990e-02,\n",
              "         4.50623333e-02,  2.78604520e-03, -2.93508936e-02,\n",
              "         4.26538214e-02, -5.62053099e-02, -3.40348817e-02,\n",
              "        -1.51766064e-02, -4.03201953e-03,  3.14128511e-02,\n",
              "        -2.35591852e-03, -9.38047364e-04, -4.18359786e-02,\n",
              "         6.15496421e-03,  3.02484748e-03,  5.37108444e-03,\n",
              "         3.77169736e-02,  3.40035111e-02, -2.48965118e-02,\n",
              "        -3.57956327e-02, -1.31143453e-02, -8.64162855e-03,\n",
              "         1.39521565e-02,  3.67682390e-02, -3.97949778e-02,\n",
              "         1.31267160e-02, -1.39813162e-02, -6.94726631e-02,\n",
              "         4.70671803e-02,  5.25823124e-02, -3.23877641e-04,\n",
              "        -3.97794545e-02, -1.92869622e-02,  6.20311126e-02,\n",
              "         3.82961817e-02,  8.89877155e-02, -3.90683375e-02,\n",
              "         2.93353908e-02, -7.01931119e-02, -2.43512867e-03,\n",
              "        -6.11148067e-02,  1.17370682e-02,  2.42216960e-02,\n",
              "        -1.24126142e-02,  4.69552306e-03, -1.56393219e-02,\n",
              "        -2.46463157e-03,  1.31977291e-03, -8.14838260e-02,\n",
              "        -5.15358932e-02, -1.22746099e-02,  1.35188699e-02,\n",
              "        -5.85810747e-03,  5.91081977e-02, -2.00925511e-03,\n",
              "        -6.53413460e-02, -4.33194655e-04,  7.01681944e-03,\n",
              "        -6.29075011e-03, -4.71504182e-02, -9.67840943e-03,\n",
              "         2.74118856e-02, -4.52952087e-02,  6.31998405e-02,\n",
              "        -2.60138093e-03, -6.51679859e-02, -1.83278602e-02,\n",
              "         3.68211530e-02, -2.39318162e-02, -5.46160042e-02,\n",
              "         1.73179433e-02, -4.49317209e-02, -2.23545842e-02,\n",
              "         4.63705603e-03,  2.85355328e-03, -1.62762068e-02,\n",
              "        -3.83532792e-03, -2.29063574e-02, -2.67444961e-02,\n",
              "        -2.65146159e-02,  8.54273792e-03, -2.14673579e-02,\n",
              "        -2.83040982e-02, -2.81662606e-02, -5.04181273e-02,\n",
              "         3.35215181e-02, -6.09818138e-02, -2.88233664e-02,\n",
              "        -1.81329325e-02, -6.11266643e-02, -1.82599705e-02,\n",
              "        -1.64896585e-02, -2.10631788e-02, -1.15908321e-03,\n",
              "         1.82249583e-02, -1.74278999e-03,  2.23693661e-02,\n",
              "        -5.00599330e-04,  1.03008409e-03,  7.70662073e-03,\n",
              "         3.08368690e-02,  8.07732344e-04, -4.29923162e-02,\n",
              "        -7.47650936e-02, -2.77654827e-03, -4.01279610e-03]], dtype=float32)>"
            ]
          },
          "metadata": {},
          "execution_count": 25
        }
      ]
    },
    {
      "cell_type": "code",
      "source": [
        "my_model = tf.Module()\n",
        "my_model._variables = tf.nest.flatten(lit_variables_tf)\n",
        "my_model.f = tf.function(embed_images_tf, autograph=False, jit_compile=True, input_signature=[\n",
        "  tf.TensorSpec(shape=[None, 224, 224, 3], dtype=tf.float32, name=\"images\"),\n",
        "])\n",
        "\n",
        "model_name = 'embed_images'\n",
        "tf.saved_model.save(my_model, model_name, options=tf.saved_model.SaveOptions(experimental_custom_gradients=True))"
      ],
      "metadata": {
        "id": "0GJYYWHKVxmw",
        "outputId": "e1032564-0b67-4f67-ef14-4ac75d85d2d0",
        "colab": {
          "base_uri": "https://localhost:8080/"
        }
      },
      "execution_count": null,
      "outputs": [
        {
          "output_type": "stream",
          "name": "stdout",
          "text": [
            "WARNING:tensorflow:@custom_gradient grad_fn has 'variables' in signature, but no ResourceVariables were used on the forward pass.\n"
          ]
        },
        {
          "output_type": "stream",
          "name": "stderr",
          "text": [
            "WARNING:tensorflow:@custom_gradient grad_fn has 'variables' in signature, but no ResourceVariables were used on the forward pass.\n"
          ]
        },
        {
          "output_type": "stream",
          "name": "stdout",
          "text": [
            "INFO:tensorflow:Assets written to: embed_images/assets\n"
          ]
        },
        {
          "output_type": "stream",
          "name": "stderr",
          "text": [
            "INFO:tensorflow:Assets written to: embed_images/assets\n"
          ]
        }
      ]
    },
    {
      "cell_type": "code",
      "source": [
        "# https://github.com/onnx/tensorflow-onnx#from_function-tf-20-and-newer\n",
        "tf2onnx.convert.from_function(my_model.f, input_signature=[tf.TensorSpec(shape=[None, 224, 224, 3], dtype=tf.float32, name=\"images\")], opset=13, output_path=model_name+'.onnx')"
      ],
      "metadata": {
        "colab": {
          "base_uri": "https://localhost:8080/"
        },
        "id": "4dydwQet0mI9",
        "outputId": "354d5f26-4c87-44e2-95d8-93b6697ed81e"
      },
      "execution_count": null,
      "outputs": [
        {
          "output_type": "stream",
          "name": "stdout",
          "text": [
            "WARNING:tensorflow:@custom_gradient grad_fn has 'variables' in signature, but no ResourceVariables were used on the forward pass.\n"
          ]
        },
        {
          "output_type": "stream",
          "name": "stderr",
          "text": [
            "WARNING:tensorflow:@custom_gradient grad_fn has 'variables' in signature, but no ResourceVariables were used on the forward pass.\n"
          ]
        },
        {
          "output_type": "stream",
          "name": "stdout",
          "text": [
            "WARNING:tensorflow:Issue encountered when serializing table_initializer.\n",
            "Type is unsupported, or the types of the items don't match field type in CollectionDef. Note this is a warning and probably safe to ignore.\n",
            "'NoneType' object has no attribute 'name'\n"
          ]
        },
        {
          "output_type": "stream",
          "name": "stderr",
          "text": [
            "WARNING:tensorflow:Issue encountered when serializing table_initializer.\n",
            "Type is unsupported, or the types of the items don't match field type in CollectionDef. Note this is a warning and probably safe to ignore.\n",
            "'NoneType' object has no attribute 'name'\n"
          ]
        },
        {
          "output_type": "stream",
          "name": "stdout",
          "text": [
            "WARNING:tensorflow:From /usr/local/lib/python3.7/dist-packages/tf2onnx/tf_loader.py:711: extract_sub_graph (from tensorflow.python.framework.graph_util_impl) is deprecated and will be removed in a future version.\n",
            "Instructions for updating:\n",
            "Use `tf.compat.v1.graph_util.extract_sub_graph`\n"
          ]
        },
        {
          "output_type": "stream",
          "name": "stderr",
          "text": [
            "WARNING:tensorflow:From /usr/local/lib/python3.7/dist-packages/tf2onnx/tf_loader.py:711: extract_sub_graph (from tensorflow.python.framework.graph_util_impl) is deprecated and will be removed in a future version.\n",
            "Instructions for updating:\n",
            "Use `tf.compat.v1.graph_util.extract_sub_graph`\n"
          ]
        }
      ]
    },
    {
      "cell_type": "code",
      "source": [
        "# from google.colab import drive\n",
        "# drive.mount('/content/drive')\n",
        "# !cp /content/embed_images.onnx /content/drive/MyDrive/embed_images.onnx"
      ],
      "metadata": {
        "id": "UFeK-o9x2xoA"
      },
      "execution_count": null,
      "outputs": []
    },
    {
      "cell_type": "code",
      "source": [
        "# converter = tf.lite.TFLiteConverter.from_saved_model(model_name)\n",
        "# tflite_model = converter.convert()\n",
        "\n",
        "# with open(model_name+'.tflite', 'wb') as f:\n",
        "#   f.write(tflite_model)"
      ],
      "metadata": {
        "id": "XBEt3kPWtxiA"
      },
      "execution_count": null,
      "outputs": []
    },
    {
      "cell_type": "code",
      "source": [
        "##################################\n",
        "#          TEXT MODEL            #\n",
        "##################################"
      ],
      "metadata": {
        "id": "TEWmSFzIkpVK"
      },
      "execution_count": null,
      "outputs": []
    },
    {
      "cell_type": "code",
      "source": [
        "def embed_text_tokens(variables, text_tokens):\n",
        "  _, ztxt, _ = lit_model.apply(lit_variables, tokens=text_tokens)\n",
        "  return ztxt"
      ],
      "metadata": {
        "id": "p8XyYgAmktHe"
      },
      "execution_count": null,
      "outputs": []
    },
    {
      "cell_type": "code",
      "source": [
        "# This is so we don't save the model parameters as graph constants. Explanation here: https://github.com/google/jax/tree/main/jax/experimental/jax2tf#saved-model-with-parameters\n",
        "lit_variables_tf = tf.nest.map_structure(tf.Variable, lit_variables)\n",
        "embed_text_tokens_tf = lambda text_tokens: jax2tf.convert(embed_text_tokens, enable_xla=False, polymorphic_shapes=[None, \"(b, ...)\"])(lit_variables_tf, text_tokens)"
      ],
      "metadata": {
        "id": "FZS0oshxlIxv"
      },
      "execution_count": null,
      "outputs": []
    },
    {
      "cell_type": "code",
      "source": [
        "texts = [\"hello world!\", \"testing one two three\", \"hi\", \"aaaaaaaaaaaaaaaa\"]"
      ],
      "metadata": {
        "id": "IOre0Lg_k3o_"
      },
      "execution_count": null,
      "outputs": []
    },
    {
      "cell_type": "code",
      "source": [
        "text_tokens = tokenizer(texts)\n",
        "text_tokens.shape"
      ],
      "metadata": {
        "colab": {
          "base_uri": "https://localhost:8080/"
        },
        "id": "RpevNHhBk2CR",
        "outputId": "d9a9507e-bac7-4404-b662-0ae536c85a96"
      },
      "execution_count": null,
      "outputs": [
        {
          "output_type": "execute_result",
          "data": {
            "text/plain": [
              "(4, 16)"
            ]
          },
          "metadata": {},
          "execution_count": 19
        }
      ]
    },
    {
      "cell_type": "code",
      "source": [
        "_, ztxt, _ = lit_model.apply(lit_variables, tokens=text_tokens)"
      ],
      "metadata": {
        "id": "5Qjpg83ttdzU"
      },
      "execution_count": null,
      "outputs": []
    },
    {
      "cell_type": "code",
      "source": [
        "text_tokens"
      ],
      "metadata": {
        "id": "oXtb23eeutDJ",
        "outputId": "87637013-32b9-4ba8-fd79-ad33b0cbd571",
        "colab": {
          "base_uri": "https://localhost:8080/"
        }
      },
      "execution_count": null,
      "outputs": [
        {
          "output_type": "execute_result",
          "data": {
            "text/plain": [
              "array([[  101,  7592,  2088,   999,     0,     0,     0,     0,     0,\n",
              "            0,     0,     0,     0,     0,     0,     0],\n",
              "       [  101,  5604,  2028,  2048,  2093,     0,     0,     0,     0,\n",
              "            0,     0,     0,     0,     0,     0,     0],\n",
              "       [  101,  7632,     0,     0,     0,     0,     0,     0,     0,\n",
              "            0,     0,     0,     0,     0,     0,     0],\n",
              "       [  101, 13360, 11057, 11057, 11057, 11057, 11057, 11057,  2050,\n",
              "            0,     0,     0,     0,     0,     0,     0]], dtype=int32)"
            ]
          },
          "metadata": {},
          "execution_count": 21
        }
      ]
    },
    {
      "cell_type": "code",
      "source": [
        "embed_text_tokens_tf(text_tokens)"
      ],
      "metadata": {
        "colab": {
          "base_uri": "https://localhost:8080/"
        },
        "id": "Z9j3O1AWmJip",
        "outputId": "b0898fa4-282e-478f-9820-37ce373859a6"
      },
      "execution_count": null,
      "outputs": [
        {
          "output_type": "execute_result",
          "data": {
            "text/plain": [
              "<tf.Tensor: shape=(4, 768), dtype=float32, numpy=\n",
              "array([[-0.00325142,  0.01848885,  0.00041978, ...,  0.00173793,\n",
              "        -0.00536559, -0.06884101],\n",
              "       [-0.01331316,  0.01797788,  0.00657475, ...,  0.00655348,\n",
              "         0.02183297, -0.08194969],\n",
              "       [ 0.00275494,  0.0236993 ,  0.0011628 , ...,  0.00860824,\n",
              "         0.00814609, -0.05825125],\n",
              "       [ 0.00415286,  0.00938824, -0.00084121, ...,  0.01578477,\n",
              "         0.0134029 , -0.06656414]], dtype=float32)>"
            ]
          },
          "metadata": {},
          "execution_count": 22
        }
      ]
    },
    {
      "cell_type": "code",
      "source": [
        "my_model = tf.Module()\n",
        "my_model._variables = tf.nest.flatten(lit_variables_tf)\n",
        "my_model.f = tf.function(embed_text_tokens_tf, autograph=False, jit_compile=True, input_signature=[\n",
        "  tf.TensorSpec(shape=[None, 16], dtype=tf.int32, name=\"text_tokens\"),\n",
        "])\n",
        "\n",
        "model_name = 'embed_text_tokens'\n",
        "tf.saved_model.save(my_model, model_name, options=tf.saved_model.SaveOptions(experimental_custom_gradients=True))"
      ],
      "metadata": {
        "colab": {
          "base_uri": "https://localhost:8080/"
        },
        "id": "Pbin-I8OlTJ6",
        "outputId": "97b93a5d-c1bb-42c9-dc03-16f4a503d224"
      },
      "execution_count": null,
      "outputs": [
        {
          "output_type": "stream",
          "name": "stderr",
          "text": [
            "WARNING:absl:No GPU/TPU found, falling back to CPU. (Set TF_CPP_MIN_LOG_LEVEL=0 and rerun for more info.)\n"
          ]
        },
        {
          "output_type": "stream",
          "name": "stdout",
          "text": [
            "WARNING:tensorflow:@custom_gradient grad_fn has 'variables' in signature, but no ResourceVariables were used on the forward pass.\n"
          ]
        },
        {
          "output_type": "stream",
          "name": "stderr",
          "text": [
            "WARNING:tensorflow:@custom_gradient grad_fn has 'variables' in signature, but no ResourceVariables were used on the forward pass.\n"
          ]
        },
        {
          "output_type": "stream",
          "name": "stdout",
          "text": [
            "INFO:tensorflow:Assets written to: embed_text_tokens/assets\n"
          ]
        },
        {
          "output_type": "stream",
          "name": "stderr",
          "text": [
            "INFO:tensorflow:Assets written to: embed_text_tokens/assets\n"
          ]
        }
      ]
    },
    {
      "cell_type": "code",
      "source": [
        "# https://github.com/onnx/tensorflow-onnx#from_function-tf-20-and-newer\n",
        "tf2onnx.convert.from_function(my_model.f, input_signature=[tf.TensorSpec(shape=[None, 16], dtype=tf.int32, name=\"text_tokens\")], opset=13, output_path=model_name+'.onnx')"
      ],
      "metadata": {
        "colab": {
          "base_uri": "https://localhost:8080/"
        },
        "id": "ZvAwOFeU3rO6",
        "outputId": "0b3e99b1-1a8f-48e3-dcd2-f008fd02b586"
      },
      "execution_count": null,
      "outputs": [
        {
          "output_type": "stream",
          "name": "stdout",
          "text": [
            "WARNING:tensorflow:@custom_gradient grad_fn has 'variables' in signature, but no ResourceVariables were used on the forward pass.\n"
          ]
        },
        {
          "output_type": "stream",
          "name": "stderr",
          "text": [
            "WARNING:tensorflow:@custom_gradient grad_fn has 'variables' in signature, but no ResourceVariables were used on the forward pass.\n"
          ]
        },
        {
          "output_type": "stream",
          "name": "stdout",
          "text": [
            "WARNING:tensorflow:Issue encountered when serializing table_initializer.\n",
            "Type is unsupported, or the types of the items don't match field type in CollectionDef. Note this is a warning and probably safe to ignore.\n",
            "'NoneType' object has no attribute 'name'\n"
          ]
        },
        {
          "output_type": "stream",
          "name": "stderr",
          "text": [
            "WARNING:tensorflow:Issue encountered when serializing table_initializer.\n",
            "Type is unsupported, or the types of the items don't match field type in CollectionDef. Note this is a warning and probably safe to ignore.\n",
            "'NoneType' object has no attribute 'name'\n"
          ]
        },
        {
          "output_type": "stream",
          "name": "stdout",
          "text": [
            "WARNING:tensorflow:From /usr/local/lib/python3.7/dist-packages/tf2onnx/tf_loader.py:711: extract_sub_graph (from tensorflow.python.framework.graph_util_impl) is deprecated and will be removed in a future version.\n",
            "Instructions for updating:\n",
            "Use `tf.compat.v1.graph_util.extract_sub_graph`\n"
          ]
        },
        {
          "output_type": "stream",
          "name": "stderr",
          "text": [
            "WARNING:tensorflow:From /usr/local/lib/python3.7/dist-packages/tf2onnx/tf_loader.py:711: extract_sub_graph (from tensorflow.python.framework.graph_util_impl) is deprecated and will be removed in a future version.\n",
            "Instructions for updating:\n",
            "Use `tf.compat.v1.graph_util.extract_sub_graph`\n"
          ]
        }
      ]
    },
    {
      "cell_type": "code",
      "source": [
        "# from google.colab import drive\n",
        "# drive.mount('/content/drive')\n",
        "# !cp /content/embed_text_tokens.onnx /content/drive/MyDrive/embed_text_tokens.onnx"
      ],
      "metadata": {
        "id": "Vzd1Dpse32Tk"
      },
      "execution_count": null,
      "outputs": []
    },
    {
      "cell_type": "code",
      "source": [
        "# converter = tf.lite.TFLiteConverter.from_saved_model(model_name)\n",
        "# tflite_model = converter.convert()\n",
        "\n",
        "# with open(model_name+'.tflite', 'wb') as f:\n",
        "#   f.write(tflite_model)"
      ],
      "metadata": {
        "id": "US2H29eAlUov"
      },
      "execution_count": null,
      "outputs": []
    },
    {
      "cell_type": "code",
      "source": [
        "#!python -m tf2onnx.convert --opset 13 --tflite embed_images.tflite --output embed_images.onnx # fails due to lack of TFL_BATCH_MATMUL support: https://github.com/onnx/tensorflow-onnx/issues/1925"
      ],
      "metadata": {
        "id": "Z52KImZprQ7p"
      },
      "execution_count": null,
      "outputs": []
    }
  ],
  "metadata": {
    "colab": {
      "collapsed_sections": [],
      "name": "LiT conversion - jax2tf to SavedModel to tflite - text & image models",
      "provenance": [],
      "machine_shape": "hm"
    },
    "kernelspec": {
      "display_name": "Python 3",
      "name": "python3"
    },
    "language_info": {
      "name": "python"
    }
  },
  "nbformat": 4,
  "nbformat_minor": 0
}
